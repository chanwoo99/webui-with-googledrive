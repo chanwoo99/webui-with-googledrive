{
  "nbformat": 4,
  "nbformat_minor": 0,
  "metadata": {
    "colab": {
      "provenance": [],
      "private_outputs": true,
      "authorship_tag": "ABX9TyMCvXZeMrfQdpRAY65Fzjyk",
      "include_colab_link": true
    },
    "kernelspec": {
      "name": "python3",
      "display_name": "Python 3"
    },
    "language_info": {
      "name": "python"
    },
    "accelerator": "GPU",
    "gpuClass": "standard"
  },
  "cells": [
    {
      "cell_type": "markdown",
      "metadata": {
        "id": "view-in-github",
        "colab_type": "text"
      },
      "source": [
        "<a href=\"https://colab.research.google.com/github/chanwoo99/webui-with-googledrive/blob/main/Webui_with_googledrive.ipynb\" target=\"_parent\"><img src=\"https://colab.research.google.com/assets/colab-badge.svg\" alt=\"Open In Colab\"/></a>"
      ]
    },
    {
      "cell_type": "code",
      "source": [
        "#@markdown # download Webui \n",
        "!pip3 install triton\n",
        "!pip install pytorch_lightning\n",
        "%cd /content\n",
        "\n",
        "!git clone https://github.com/chanwoo99/stable-diffusion-webui\n",
        "!pip install -qq https://github.com/camenduru/stable-diffusion-webui-colab/releases/download/0.0.16/xformers-0.0.16+814314d.d20230118-cp38-cp38-linux_x86_64.whl\n",
        "!mkdir \"/content/stable-diffusion-webui/models/Lora\"\n",
        "\n",
        "def run_webui():\n",
        "  %cd /content/stable-diffusion-webui/\n",
        "  !COMMANDLINE_ARGS=\" --xformers --share --disable-safe-unpickle\" REQS_FILE=\"requirements.txt\" python launch.py\n",
        "\n"
      ],
      "metadata": {
        "id": "o5a9GERFZW1k"
      },
      "execution_count": null,
      "outputs": []
    },
    {
      "cell_type": "code",
      "source": [],
      "metadata": {
        "id": "5qqOScUBwbJv"
      },
      "execution_count": null,
      "outputs": []
    },
    {
      "cell_type": "code",
      "source": [
        "#@markdown # download model and lora to google drive and synchronize to colab storage<br/><br/>\n",
        "#@markdown ## If you want to use models in google drive not downloading new models, keep model_link and lora_link blank<br/><br/>\n",
        "\n",
        "from google.colab import drive\n",
        "import os\n",
        "\n",
        "\n",
        "drive.mount('/content/drive')\n",
        "!mkdir -p \"/content/drive/MyDrive/Webui_model\"\n",
        "\n",
        "drive_path = \"/content/drive/MyDrive/Webui_model\"\n",
        "!mkdir -p \"{drive_path}/models\"\n",
        "!mkdir -p \"{drive_path}/lora\"\n",
        "\n",
        "#@markdown ### download model checkpoint to google drvive\n",
        "model_link = \"\" #@param {'type': 'string'}\n",
        "model_name = \"\" #@param {'type': 'string'}\n",
        "model_type = \"safetensors\" #@param ['ckpt','safetensors']\n",
        "\n",
        "#@markdown ### download Lora checkpoint to google drvive\n",
        "Lora_link = \"\" #@param {'type': 'string'}\n",
        "Lora_name = \"\" #@param {'type': 'string'}\n",
        "Lora_type = \"safetensors\" #@param ['ckpt','safetensors']\n",
        "\n",
        "!wget {model_link} -O \"{drive_path}/models/{model_name}.{model_type}\"\n",
        "!wget {Lora_link} -O \"{drive_path}/lora/{Lora_name}.{Lora_type}\"\n",
        "\n",
        "!rm \"/content/stable-diffusion-webui/models/Stable-diffusion/*.ckpt\"\n",
        "!rm \"/content/stable-diffusion-webui/models/Stable-diffusion/*.safetensors\"\n",
        "!rm \"/content/stable-diffusion-webui/models/Lora/*.ckpt\"\n",
        "!rm \"/content/stable-diffusion-webui/models/Lora/*.safetensors\"\n",
        "\n",
        "model_list = os.listdir(f\"{drive_path}/models\")\n",
        "lora_list = os.listdir(f\"{drive_path}/lora\")\n",
        "for i in model_list:\n",
        "  !ln -s \"{drive_path}/models/{i}\" \"/content/stable-diffusion-webui/models/Stable-diffusion/{i}\"\n",
        "for i2 in lora_list:\n",
        "  !ln -s \"{drive_path}/lora/{i2}\" \"/content/stable-diffusion-webui/models/Lora/{i2}\"\n",
        "\n",
        "#@markdown ### After running this cell, all models and lora in the google drive are automatically updated to colab storage\n",
        "\n",
        "\n",
        "\n",
        "\n"
      ],
      "metadata": {
        "id": "ahr36q4dZnkN"
      },
      "execution_count": null,
      "outputs": []
    },
    {
      "cell_type": "code",
      "source": [
        "#@markdown # run Webui\n",
        "run_webui()"
      ],
      "metadata": {
        "id": "c0di7YA7k6D-"
      },
      "execution_count": null,
      "outputs": []
    },
    {
      "cell_type": "code",
      "source": [],
      "metadata": {
        "id": "H8krJk1GSgex"
      },
      "execution_count": null,
      "outputs": []
    }
  ]
}